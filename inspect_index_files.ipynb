{
 "cells": [
  {
   "cell_type": "markdown",
   "metadata": {},
   "source": [
    "<font size = 5> This notebook was created by Xiao-Fei Zhang on Mar 29, 2024 <br><br>\n",
    "<font size = 4> This notebook contains code and explanations for how to inspect the index files saved to disk (in JSON format)"
   ]
  },
  {
   "cell_type": "markdown",
   "metadata": {},
   "source": [
    "# Functions"
   ]
  },
  {
   "cell_type": "code",
   "execution_count": 17,
   "metadata": {},
   "outputs": [],
   "source": [
    "import json\n",
    "\n",
    "\n",
    "# Function to print the level of a dictionary\n",
    "def print_first_1_level(d):\n",
    "    for key, value in d.items():\n",
    "        if isinstance(value, dict):\n",
    "            print(f\"{key}: {{...}}\")  # Indicate that the value is a nested dictionary\n",
    "        else:\n",
    "            print(f\"{key}: {value}\")\n",
    "\n",
    "\n",
    "# Function to print the top two levels of a dictionary\n",
    "def print_first_2_levels(d, level=0):\n",
    "    for key, value in d.items():\n",
    "        print(\"    \" * level + str(key) + \":\", end=\" \")\n",
    "        if (\n",
    "            isinstance(value, dict) and level < 1\n",
    "        ):  # Check if value is a dictionary and we are at the root level\n",
    "            print()\n",
    "            print_first_2_levels(value, level + 1)\n",
    "        else:\n",
    "            print(value)\n",
    "\n",
    "\n",
    "# Function to print all under just 1 key (category)\n",
    "def print_all_under_key(d, key):\n",
    "    # Check if the key exists at the top level\n",
    "    if key in d:\n",
    "        # Print the key and all its nested contents\n",
    "        print(f\"{key}: {json.dumps(d[key], indent=4)}\")\n",
    "    else:\n",
    "        print(f\"Key '{key}' not found at the top level.\")\n",
    "\n",
    "\n",
    "# Function to search and print a keyword\n",
    "def search_dict(d, keyword, path=None):\n",
    "    \"\"\"\n",
    "    Search recursively for the keyword in the dictionary and print its value along with its path.\n",
    "\n",
    "    :param d: The dictionary to search through.\n",
    "    :param keyword: The keyword to search for.\n",
    "    :param path: The current path to the keyword (used internally for recursion).\n",
    "    \"\"\"\n",
    "    if path is None:\n",
    "        path = []\n",
    "\n",
    "    if (\n",
    "        keyword in d\n",
    "    ):  # Check if the current level of the dictionary contains the keyword\n",
    "        print(f\"Found '{keyword}' at {' -> '.join(path + [keyword])}: {d[keyword]}\")\n",
    "    else:\n",
    "        for key, value in d.items():\n",
    "            if isinstance(\n",
    "                value, dict\n",
    "            ):  # If the value is another dictionary, recurse into it\n",
    "                search_dict(value, keyword, path + [key])  # Pass the updated path"
   ]
  },
  {
   "cell_type": "markdown",
   "metadata": {},
   "source": [
    "# Load file"
   ]
  },
  {
   "cell_type": "code",
   "execution_count": 12,
   "metadata": {},
   "outputs": [],
   "source": [
    "import json\n",
    "\n",
    "# Enter the file path to your JSON file persisted to disk after indexing\n",
    "file_path = r\"C:\\github\\chatgpt\\rag deloitte transparency reports\\index_sent_window_md\\sentence_index\\default__vector_store.json\"\n",
    "\n",
    "# Opening the text file and loading the JSON content into a dictionary\n",
    "with open(file_path, \"r\") as file:\n",
    "    data = json.load(file)"
   ]
  },
  {
   "cell_type": "markdown",
   "metadata": {},
   "source": [
    "# Inspect Data"
   ]
  },
  {
   "cell_type": "code",
   "execution_count": 9,
   "metadata": {},
   "outputs": [
    {
     "name": "stdout",
     "output_type": "stream",
     "text": [
      "embedding_dict: {...}\n",
      "text_id_to_ref_doc_id: {...}\n",
      "metadata_dict: {...}\n"
     ]
    }
   ],
   "source": [
    "print_first_1_level(data)"
   ]
  },
  {
   "cell_type": "code",
   "execution_count": null,
   "metadata": {},
   "outputs": [],
   "source": [
    "print_first_2_levels(data)"
   ]
  },
  {
   "cell_type": "code",
   "execution_count": null,
   "metadata": {},
   "outputs": [],
   "source": [
    "print_all_under_key(data, \"text_id_to_ref_doc_id\")"
   ]
  },
  {
   "cell_type": "code",
   "execution_count": null,
   "metadata": {},
   "outputs": [],
   "source": [
    "print_all_under_key(data, \"metadata_dict\")"
   ]
  },
  {
   "cell_type": "code",
   "execution_count": null,
   "metadata": {},
   "outputs": [],
   "source": [
    "search_dict(data, \"original_text\")"
   ]
  },
  {
   "cell_type": "code",
   "execution_count": null,
   "metadata": {},
   "outputs": [],
   "source": [
    "search_dict(data, \"window\")"
   ]
  }
 ],
 "metadata": {
  "kernelspec": {
   "display_name": "Python 3",
   "language": "python",
   "name": "python3"
  },
  "language_info": {
   "codemirror_mode": {
    "name": "ipython",
    "version": 3
   },
   "file_extension": ".py",
   "mimetype": "text/x-python",
   "name": "python",
   "nbconvert_exporter": "python",
   "pygments_lexer": "ipython3",
   "version": "3.11.8"
  }
 },
 "nbformat": 4,
 "nbformat_minor": 2
}
